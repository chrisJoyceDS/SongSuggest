{
 "cells": [
  {
   "cell_type": "markdown",
   "id": "91629d2f-a3a7-4fa6-a69d-7314f66a41b0",
   "metadata": {},
   "source": [
    "# V1: Classifying Music Taste with Classifier Algorithms\n",
    "___"
   ]
  },
  {
   "cell_type": "markdown",
   "id": "4f981fe4-f940-4819-a376-a5903b02cb12",
   "metadata": {},
   "source": [
    "### Goal: Create a model that can classify whether or not a user would choose to save a song with above 90% accuracy based on a given track's audio features."
   ]
  },
  {
   "cell_type": "markdown",
   "id": "d455582b-582c-47df-844b-09552f0cae13",
   "metadata": {},
   "source": [
    "### Step 1: Load and Inspect Data"
   ]
  },
  {
   "cell_type": "code",
   "execution_count": 1,
   "id": "33b23e1e-5104-4fd2-a14c-a90722367a09",
   "metadata": {},
   "outputs": [],
   "source": [
    "import pandas as pd\n",
    "import numpy as np\n",
    "import time\n",
    "\n",
    "from sklearn.preprocessing import StandardScaler, PolynomialFeatures\n",
    "from sklearn.exceptions import ConvergenceWarning\n",
    "from sklearn.model_selection import train_test_split\n",
    "from sklearn.metrics import confusion_matrix, ConfusionMatrixDisplay\n",
    "import warnings\n",
    "\n",
    "import model_methods\n",
    "import sklearn"
   ]
  },
  {
   "cell_type": "code",
   "execution_count": 2,
   "id": "b118f32e-7d52-46c6-942f-97cbb9206ff4",
   "metadata": {},
   "outputs": [],
   "source": [
    "my_tracks = pd.read_csv('../data/allmy_tracks_with_features.csv', index_col=0)"
   ]
  },
  {
   "cell_type": "code",
   "execution_count": 3,
   "id": "572ad403-e00a-40cd-93e8-92259ef66c62",
   "metadata": {},
   "outputs": [
    {
     "data": {
      "text/plain": [
       "(2543, 24)"
      ]
     },
     "execution_count": 3,
     "metadata": {},
     "output_type": "execute_result"
    }
   ],
   "source": [
    "my_tracks.shape"
   ]
  },
  {
   "cell_type": "code",
   "execution_count": 4,
   "id": "48049d9c-938e-43a7-b628-925be27e56c1",
   "metadata": {},
   "outputs": [
    {
     "name": "stdout",
     "output_type": "stream",
     "text": [
      "<class 'pandas.core.frame.DataFrame'>\n",
      "Int64Index: 2543 entries, 0 to 3617\n",
      "Data columns (total 24 columns):\n",
      " #   Column            Non-Null Count  Dtype  \n",
      "---  ------            --------------  -----  \n",
      " 0   id                2543 non-null   object \n",
      " 1   track_name        2543 non-null   object \n",
      " 2   artist            2543 non-null   object \n",
      " 3   artist_id         2543 non-null   object \n",
      " 4   album_id          2543 non-null   object \n",
      " 5   album             2543 non-null   object \n",
      " 6   release_date      2543 non-null   object \n",
      " 7   playlist_name     2543 non-null   object \n",
      " 8   popularity        2543 non-null   int64  \n",
      " 9   explicit          2543 non-null   bool   \n",
      " 10  user_liked        2543 non-null   int64  \n",
      " 11  danceability      2543 non-null   float64\n",
      " 12  energy            2543 non-null   float64\n",
      " 13  key               2543 non-null   int64  \n",
      " 14  loudness          2543 non-null   float64\n",
      " 15  mode              2543 non-null   int64  \n",
      " 16  speechiness       2543 non-null   float64\n",
      " 17  acousticness      2543 non-null   float64\n",
      " 18  instrumentalness  2543 non-null   float64\n",
      " 19  liveness          2543 non-null   float64\n",
      " 20  valence           2543 non-null   float64\n",
      " 21  tempo             2543 non-null   float64\n",
      " 22  duration_ms       2543 non-null   int64  \n",
      " 23  time_signature    2543 non-null   int64  \n",
      "dtypes: bool(1), float64(9), int64(6), object(8)\n",
      "memory usage: 479.3+ KB\n"
     ]
    }
   ],
   "source": [
    "my_tracks.info()"
   ]
  },
  {
   "cell_type": "code",
   "execution_count": 5,
   "id": "33d982e7-bcd8-4f9d-a796-ab8c8233adef",
   "metadata": {},
   "outputs": [
    {
     "data": {
      "text/html": [
       "<div>\n",
       "<style scoped>\n",
       "    .dataframe tbody tr th:only-of-type {\n",
       "        vertical-align: middle;\n",
       "    }\n",
       "\n",
       "    .dataframe tbody tr th {\n",
       "        vertical-align: top;\n",
       "    }\n",
       "\n",
       "    .dataframe thead th {\n",
       "        text-align: right;\n",
       "    }\n",
       "</style>\n",
       "<table border=\"1\" class=\"dataframe\">\n",
       "  <thead>\n",
       "    <tr style=\"text-align: right;\">\n",
       "      <th></th>\n",
       "      <th>id</th>\n",
       "      <th>track_name</th>\n",
       "      <th>artist</th>\n",
       "      <th>artist_id</th>\n",
       "      <th>album_id</th>\n",
       "      <th>album</th>\n",
       "      <th>release_date</th>\n",
       "      <th>playlist_name</th>\n",
       "      <th>popularity</th>\n",
       "      <th>explicit</th>\n",
       "      <th>...</th>\n",
       "      <th>loudness</th>\n",
       "      <th>mode</th>\n",
       "      <th>speechiness</th>\n",
       "      <th>acousticness</th>\n",
       "      <th>instrumentalness</th>\n",
       "      <th>liveness</th>\n",
       "      <th>valence</th>\n",
       "      <th>tempo</th>\n",
       "      <th>duration_ms</th>\n",
       "      <th>time_signature</th>\n",
       "    </tr>\n",
       "  </thead>\n",
       "  <tbody>\n",
       "    <tr>\n",
       "      <th>0</th>\n",
       "      <td>2Nw6tjb0euV6LApzN4fU0a</td>\n",
       "      <td>Good for You</td>\n",
       "      <td>Spacey Jane</td>\n",
       "      <td>6V70yeZQCoSR2M3fyW8qiA</td>\n",
       "      <td>3zZi1vy6CnNZX7lbcRJtXo</td>\n",
       "      <td>Sunlight</td>\n",
       "      <td>2020-06-12</td>\n",
       "      <td>Liked_Songs</td>\n",
       "      <td>60</td>\n",
       "      <td>True</td>\n",
       "      <td>...</td>\n",
       "      <td>-4.741</td>\n",
       "      <td>1</td>\n",
       "      <td>0.0385</td>\n",
       "      <td>0.000056</td>\n",
       "      <td>0.010600</td>\n",
       "      <td>0.165</td>\n",
       "      <td>0.931</td>\n",
       "      <td>174.962</td>\n",
       "      <td>174760</td>\n",
       "      <td>4</td>\n",
       "    </tr>\n",
       "    <tr>\n",
       "      <th>427</th>\n",
       "      <td>276zciJ7Fg7Jk6Ta6QuLkp</td>\n",
       "      <td>Come Down</td>\n",
       "      <td>Anderson .Paak</td>\n",
       "      <td>3jK9MiCrA42lLAdMGUZpwa</td>\n",
       "      <td>4VFG1DOuTeDMBjBLZT7hCK</td>\n",
       "      <td>Malibu</td>\n",
       "      <td>2016-01-15</td>\n",
       "      <td>Liked_Songs</td>\n",
       "      <td>66</td>\n",
       "      <td>True</td>\n",
       "      <td>...</td>\n",
       "      <td>-7.135</td>\n",
       "      <td>1</td>\n",
       "      <td>0.1040</td>\n",
       "      <td>0.271000</td>\n",
       "      <td>0.015100</td>\n",
       "      <td>0.304</td>\n",
       "      <td>0.931</td>\n",
       "      <td>98.401</td>\n",
       "      <td>169727</td>\n",
       "      <td>4</td>\n",
       "    </tr>\n",
       "    <tr>\n",
       "      <th>420</th>\n",
       "      <td>2gZUPNdnz5Y45eiGxpHGSc</td>\n",
       "      <td>POWER</td>\n",
       "      <td>Kanye West</td>\n",
       "      <td>5K4W6rqBFWDnAN6FQUkS6x</td>\n",
       "      <td>20r762YmB5HeofjMCiPMLv</td>\n",
       "      <td>My Beautiful Dark Twisted Fantasy</td>\n",
       "      <td>2010-11-22</td>\n",
       "      <td>Liked_Songs</td>\n",
       "      <td>79</td>\n",
       "      <td>True</td>\n",
       "      <td>...</td>\n",
       "      <td>-4.747</td>\n",
       "      <td>0</td>\n",
       "      <td>0.1130</td>\n",
       "      <td>0.016100</td>\n",
       "      <td>0.000000</td>\n",
       "      <td>0.744</td>\n",
       "      <td>0.576</td>\n",
       "      <td>153.993</td>\n",
       "      <td>292093</td>\n",
       "      <td>4</td>\n",
       "    </tr>\n",
       "    <tr>\n",
       "      <th>421</th>\n",
       "      <td>4qikXelSRKvoCqFcHLB2H2</td>\n",
       "      <td>Mercy</td>\n",
       "      <td>Kanye West</td>\n",
       "      <td>5K4W6rqBFWDnAN6FQUkS6x</td>\n",
       "      <td>0hmFRR0pDSZIAvoJqEFSKv</td>\n",
       "      <td>Mercy</td>\n",
       "      <td>2012-01-01</td>\n",
       "      <td>Liked_Songs</td>\n",
       "      <td>73</td>\n",
       "      <td>True</td>\n",
       "      <td>...</td>\n",
       "      <td>-9.381</td>\n",
       "      <td>0</td>\n",
       "      <td>0.4060</td>\n",
       "      <td>0.068500</td>\n",
       "      <td>0.000058</td>\n",
       "      <td>0.173</td>\n",
       "      <td>0.426</td>\n",
       "      <td>139.993</td>\n",
       "      <td>329320</td>\n",
       "      <td>4</td>\n",
       "    </tr>\n",
       "    <tr>\n",
       "      <th>422</th>\n",
       "      <td>3CcvahnsiArpTHYQEWV2Au</td>\n",
       "      <td>Bring Em Out</td>\n",
       "      <td>T.I.</td>\n",
       "      <td>4OBJLual30L7gRl5UkeRcT</td>\n",
       "      <td>1oFucub5OjyG4XPsDUzhil</td>\n",
       "      <td>Urban Legend</td>\n",
       "      <td>2004-11-28</td>\n",
       "      <td>Liked_Songs</td>\n",
       "      <td>66</td>\n",
       "      <td>True</td>\n",
       "      <td>...</td>\n",
       "      <td>-2.983</td>\n",
       "      <td>1</td>\n",
       "      <td>0.2570</td>\n",
       "      <td>0.029800</td>\n",
       "      <td>0.000000</td>\n",
       "      <td>0.141</td>\n",
       "      <td>0.587</td>\n",
       "      <td>98.579</td>\n",
       "      <td>216707</td>\n",
       "      <td>4</td>\n",
       "    </tr>\n",
       "  </tbody>\n",
       "</table>\n",
       "<p>5 rows × 24 columns</p>\n",
       "</div>"
      ],
      "text/plain": [
       "                         id    track_name          artist  \\\n",
       "0    2Nw6tjb0euV6LApzN4fU0a  Good for You     Spacey Jane   \n",
       "427  276zciJ7Fg7Jk6Ta6QuLkp     Come Down  Anderson .Paak   \n",
       "420  2gZUPNdnz5Y45eiGxpHGSc         POWER      Kanye West   \n",
       "421  4qikXelSRKvoCqFcHLB2H2         Mercy      Kanye West   \n",
       "422  3CcvahnsiArpTHYQEWV2Au  Bring Em Out            T.I.   \n",
       "\n",
       "                  artist_id                album_id  \\\n",
       "0    6V70yeZQCoSR2M3fyW8qiA  3zZi1vy6CnNZX7lbcRJtXo   \n",
       "427  3jK9MiCrA42lLAdMGUZpwa  4VFG1DOuTeDMBjBLZT7hCK   \n",
       "420  5K4W6rqBFWDnAN6FQUkS6x  20r762YmB5HeofjMCiPMLv   \n",
       "421  5K4W6rqBFWDnAN6FQUkS6x  0hmFRR0pDSZIAvoJqEFSKv   \n",
       "422  4OBJLual30L7gRl5UkeRcT  1oFucub5OjyG4XPsDUzhil   \n",
       "\n",
       "                                 album release_date playlist_name  popularity  \\\n",
       "0                             Sunlight   2020-06-12   Liked_Songs          60   \n",
       "427                             Malibu   2016-01-15   Liked_Songs          66   \n",
       "420  My Beautiful Dark Twisted Fantasy   2010-11-22   Liked_Songs          79   \n",
       "421                              Mercy   2012-01-01   Liked_Songs          73   \n",
       "422                       Urban Legend   2004-11-28   Liked_Songs          66   \n",
       "\n",
       "     explicit  ...  loudness  mode  speechiness  acousticness  \\\n",
       "0        True  ...    -4.741     1       0.0385      0.000056   \n",
       "427      True  ...    -7.135     1       0.1040      0.271000   \n",
       "420      True  ...    -4.747     0       0.1130      0.016100   \n",
       "421      True  ...    -9.381     0       0.4060      0.068500   \n",
       "422      True  ...    -2.983     1       0.2570      0.029800   \n",
       "\n",
       "     instrumentalness  liveness  valence    tempo  duration_ms  time_signature  \n",
       "0            0.010600     0.165    0.931  174.962       174760               4  \n",
       "427          0.015100     0.304    0.931   98.401       169727               4  \n",
       "420          0.000000     0.744    0.576  153.993       292093               4  \n",
       "421          0.000058     0.173    0.426  139.993       329320               4  \n",
       "422          0.000000     0.141    0.587   98.579       216707               4  \n",
       "\n",
       "[5 rows x 24 columns]"
      ]
     },
     "execution_count": 5,
     "metadata": {},
     "output_type": "execute_result"
    }
   ],
   "source": [
    "my_tracks.head()"
   ]
  },
  {
   "cell_type": "markdown",
   "id": "89a73856-d5a9-4c10-bbfe-7f90d1726725",
   "metadata": {},
   "source": [
    "Let's reset our Index"
   ]
  },
  {
   "cell_type": "code",
   "execution_count": 6,
   "id": "16631789-93e1-41d5-9573-65b2707c116b",
   "metadata": {},
   "outputs": [
    {
     "data": {
      "text/plain": [
       "Fleet Foxes    1909\n",
       "Liked_Songs     634\n",
       "Name: playlist_name, dtype: int64"
      ]
     },
     "execution_count": 6,
     "metadata": {},
     "output_type": "execute_result"
    }
   ],
   "source": [
    "my_tracks['playlist_name'].value_counts()"
   ]
  },
  {
   "cell_type": "code",
   "execution_count": 7,
   "id": "1ce1c1cc-27c5-453b-a977-5e92ff5893c3",
   "metadata": {},
   "outputs": [],
   "source": [
    "my_tracks.reset_index(drop=True, inplace=True)"
   ]
  },
  {
   "cell_type": "markdown",
   "id": "2e96ce40-b262-4d3d-af7a-15f41b1f224f",
   "metadata": {},
   "source": [
    "Note to Self: Fix get tracks from playlists function so not all playlists say Fleet Foxes"
   ]
  },
  {
   "cell_type": "code",
   "execution_count": 8,
   "id": "c22ca6ab-2324-4a24-8d6a-8abf2999cfad",
   "metadata": {},
   "outputs": [
    {
     "data": {
      "text/plain": [
       "Index(['id', 'track_name', 'artist', 'artist_id', 'album_id', 'album',\n",
       "       'release_date', 'playlist_name', 'popularity', 'explicit', 'user_liked',\n",
       "       'danceability', 'energy', 'key', 'loudness', 'mode', 'speechiness',\n",
       "       'acousticness', 'instrumentalness', 'liveness', 'valence', 'tempo',\n",
       "       'duration_ms', 'time_signature'],\n",
       "      dtype='object')"
      ]
     },
     "execution_count": 8,
     "metadata": {},
     "output_type": "execute_result"
    }
   ],
   "source": [
    "my_tracks.columns"
   ]
  },
  {
   "cell_type": "markdown",
   "id": "6f0d8581-de2a-4717-9e6b-791cdc36adff",
   "metadata": {},
   "source": [
    "___\n",
    "### Data looks good and clean! Let's drop columns that won't be of use for classifying:"
   ]
  },
  {
   "cell_type": "code",
   "execution_count": 9,
   "id": "a4cc5dfc-875f-4632-9483-619eaf25622f",
   "metadata": {},
   "outputs": [],
   "source": [
    "to_class_tracks = my_tracks.drop(columns=['id','track_name','artist','artist_id','album_id','album','release_date','playlist_name']).copy()"
   ]
  },
  {
   "cell_type": "code",
   "execution_count": 10,
   "id": "8209f73d-dad1-4942-a555-220a4abdf03f",
   "metadata": {},
   "outputs": [
    {
     "data": {
      "text/html": [
       "<div>\n",
       "<style scoped>\n",
       "    .dataframe tbody tr th:only-of-type {\n",
       "        vertical-align: middle;\n",
       "    }\n",
       "\n",
       "    .dataframe tbody tr th {\n",
       "        vertical-align: top;\n",
       "    }\n",
       "\n",
       "    .dataframe thead th {\n",
       "        text-align: right;\n",
       "    }\n",
       "</style>\n",
       "<table border=\"1\" class=\"dataframe\">\n",
       "  <thead>\n",
       "    <tr style=\"text-align: right;\">\n",
       "      <th></th>\n",
       "      <th>popularity</th>\n",
       "      <th>explicit</th>\n",
       "      <th>user_liked</th>\n",
       "      <th>danceability</th>\n",
       "      <th>energy</th>\n",
       "      <th>key</th>\n",
       "      <th>loudness</th>\n",
       "      <th>mode</th>\n",
       "      <th>speechiness</th>\n",
       "      <th>acousticness</th>\n",
       "      <th>instrumentalness</th>\n",
       "      <th>liveness</th>\n",
       "      <th>valence</th>\n",
       "      <th>tempo</th>\n",
       "      <th>duration_ms</th>\n",
       "      <th>time_signature</th>\n",
       "    </tr>\n",
       "  </thead>\n",
       "  <tbody>\n",
       "    <tr>\n",
       "      <th>0</th>\n",
       "      <td>60</td>\n",
       "      <td>True</td>\n",
       "      <td>1</td>\n",
       "      <td>0.436</td>\n",
       "      <td>0.896</td>\n",
       "      <td>0</td>\n",
       "      <td>-4.741</td>\n",
       "      <td>1</td>\n",
       "      <td>0.0385</td>\n",
       "      <td>0.000056</td>\n",
       "      <td>0.010600</td>\n",
       "      <td>0.165</td>\n",
       "      <td>0.931</td>\n",
       "      <td>174.962</td>\n",
       "      <td>174760</td>\n",
       "      <td>4</td>\n",
       "    </tr>\n",
       "    <tr>\n",
       "      <th>1</th>\n",
       "      <td>66</td>\n",
       "      <td>True</td>\n",
       "      <td>1</td>\n",
       "      <td>0.841</td>\n",
       "      <td>0.898</td>\n",
       "      <td>8</td>\n",
       "      <td>-7.135</td>\n",
       "      <td>1</td>\n",
       "      <td>0.1040</td>\n",
       "      <td>0.271000</td>\n",
       "      <td>0.015100</td>\n",
       "      <td>0.304</td>\n",
       "      <td>0.931</td>\n",
       "      <td>98.401</td>\n",
       "      <td>169727</td>\n",
       "      <td>4</td>\n",
       "    </tr>\n",
       "    <tr>\n",
       "      <th>2</th>\n",
       "      <td>79</td>\n",
       "      <td>True</td>\n",
       "      <td>1</td>\n",
       "      <td>0.542</td>\n",
       "      <td>0.914</td>\n",
       "      <td>0</td>\n",
       "      <td>-4.747</td>\n",
       "      <td>0</td>\n",
       "      <td>0.1130</td>\n",
       "      <td>0.016100</td>\n",
       "      <td>0.000000</td>\n",
       "      <td>0.744</td>\n",
       "      <td>0.576</td>\n",
       "      <td>153.993</td>\n",
       "      <td>292093</td>\n",
       "      <td>4</td>\n",
       "    </tr>\n",
       "    <tr>\n",
       "      <th>3</th>\n",
       "      <td>73</td>\n",
       "      <td>True</td>\n",
       "      <td>1</td>\n",
       "      <td>0.563</td>\n",
       "      <td>0.496</td>\n",
       "      <td>6</td>\n",
       "      <td>-9.381</td>\n",
       "      <td>0</td>\n",
       "      <td>0.4060</td>\n",
       "      <td>0.068500</td>\n",
       "      <td>0.000058</td>\n",
       "      <td>0.173</td>\n",
       "      <td>0.426</td>\n",
       "      <td>139.993</td>\n",
       "      <td>329320</td>\n",
       "      <td>4</td>\n",
       "    </tr>\n",
       "    <tr>\n",
       "      <th>4</th>\n",
       "      <td>66</td>\n",
       "      <td>True</td>\n",
       "      <td>1</td>\n",
       "      <td>0.759</td>\n",
       "      <td>0.891</td>\n",
       "      <td>11</td>\n",
       "      <td>-2.983</td>\n",
       "      <td>1</td>\n",
       "      <td>0.2570</td>\n",
       "      <td>0.029800</td>\n",
       "      <td>0.000000</td>\n",
       "      <td>0.141</td>\n",
       "      <td>0.587</td>\n",
       "      <td>98.579</td>\n",
       "      <td>216707</td>\n",
       "      <td>4</td>\n",
       "    </tr>\n",
       "  </tbody>\n",
       "</table>\n",
       "</div>"
      ],
      "text/plain": [
       "   popularity  explicit  user_liked  danceability  energy  key  loudness  \\\n",
       "0          60      True           1         0.436   0.896    0    -4.741   \n",
       "1          66      True           1         0.841   0.898    8    -7.135   \n",
       "2          79      True           1         0.542   0.914    0    -4.747   \n",
       "3          73      True           1         0.563   0.496    6    -9.381   \n",
       "4          66      True           1         0.759   0.891   11    -2.983   \n",
       "\n",
       "   mode  speechiness  acousticness  instrumentalness  liveness  valence  \\\n",
       "0     1       0.0385      0.000056          0.010600     0.165    0.931   \n",
       "1     1       0.1040      0.271000          0.015100     0.304    0.931   \n",
       "2     0       0.1130      0.016100          0.000000     0.744    0.576   \n",
       "3     0       0.4060      0.068500          0.000058     0.173    0.426   \n",
       "4     1       0.2570      0.029800          0.000000     0.141    0.587   \n",
       "\n",
       "     tempo  duration_ms  time_signature  \n",
       "0  174.962       174760               4  \n",
       "1   98.401       169727               4  \n",
       "2  153.993       292093               4  \n",
       "3  139.993       329320               4  \n",
       "4   98.579       216707               4  "
      ]
     },
     "execution_count": 10,
     "metadata": {},
     "output_type": "execute_result"
    }
   ],
   "source": [
    "to_class_tracks.head()"
   ]
  },
  {
   "cell_type": "markdown",
   "id": "81a4efd9-c099-460f-9568-a7e9cab18cff",
   "metadata": {},
   "source": [
    "To include the 'explicit' column let's translate it from Bool to Integer"
   ]
  },
  {
   "cell_type": "code",
   "execution_count": 11,
   "id": "4abb9264-72b7-4de3-a94c-0a7482476001",
   "metadata": {},
   "outputs": [],
   "source": [
    "to_class_tracks['explicit']=to_class_tracks['explicit'].astype('int')"
   ]
  },
  {
   "cell_type": "code",
   "execution_count": 12,
   "id": "62ef5c81-96b4-4ed3-84c6-da8c9a2c10e0",
   "metadata": {},
   "outputs": [
    {
     "data": {
      "text/html": [
       "<div>\n",
       "<style scoped>\n",
       "    .dataframe tbody tr th:only-of-type {\n",
       "        vertical-align: middle;\n",
       "    }\n",
       "\n",
       "    .dataframe tbody tr th {\n",
       "        vertical-align: top;\n",
       "    }\n",
       "\n",
       "    .dataframe thead th {\n",
       "        text-align: right;\n",
       "    }\n",
       "</style>\n",
       "<table border=\"1\" class=\"dataframe\">\n",
       "  <thead>\n",
       "    <tr style=\"text-align: right;\">\n",
       "      <th></th>\n",
       "      <th>popularity</th>\n",
       "      <th>explicit</th>\n",
       "      <th>user_liked</th>\n",
       "      <th>danceability</th>\n",
       "      <th>energy</th>\n",
       "      <th>key</th>\n",
       "      <th>loudness</th>\n",
       "      <th>mode</th>\n",
       "      <th>speechiness</th>\n",
       "      <th>acousticness</th>\n",
       "      <th>instrumentalness</th>\n",
       "      <th>liveness</th>\n",
       "      <th>valence</th>\n",
       "      <th>tempo</th>\n",
       "      <th>duration_ms</th>\n",
       "      <th>time_signature</th>\n",
       "    </tr>\n",
       "  </thead>\n",
       "  <tbody>\n",
       "    <tr>\n",
       "      <th>0</th>\n",
       "      <td>60</td>\n",
       "      <td>1</td>\n",
       "      <td>1</td>\n",
       "      <td>0.436</td>\n",
       "      <td>0.896</td>\n",
       "      <td>0</td>\n",
       "      <td>-4.741</td>\n",
       "      <td>1</td>\n",
       "      <td>0.0385</td>\n",
       "      <td>0.000056</td>\n",
       "      <td>0.010600</td>\n",
       "      <td>0.165</td>\n",
       "      <td>0.931</td>\n",
       "      <td>174.962</td>\n",
       "      <td>174760</td>\n",
       "      <td>4</td>\n",
       "    </tr>\n",
       "    <tr>\n",
       "      <th>1</th>\n",
       "      <td>66</td>\n",
       "      <td>1</td>\n",
       "      <td>1</td>\n",
       "      <td>0.841</td>\n",
       "      <td>0.898</td>\n",
       "      <td>8</td>\n",
       "      <td>-7.135</td>\n",
       "      <td>1</td>\n",
       "      <td>0.1040</td>\n",
       "      <td>0.271000</td>\n",
       "      <td>0.015100</td>\n",
       "      <td>0.304</td>\n",
       "      <td>0.931</td>\n",
       "      <td>98.401</td>\n",
       "      <td>169727</td>\n",
       "      <td>4</td>\n",
       "    </tr>\n",
       "    <tr>\n",
       "      <th>2</th>\n",
       "      <td>79</td>\n",
       "      <td>1</td>\n",
       "      <td>1</td>\n",
       "      <td>0.542</td>\n",
       "      <td>0.914</td>\n",
       "      <td>0</td>\n",
       "      <td>-4.747</td>\n",
       "      <td>0</td>\n",
       "      <td>0.1130</td>\n",
       "      <td>0.016100</td>\n",
       "      <td>0.000000</td>\n",
       "      <td>0.744</td>\n",
       "      <td>0.576</td>\n",
       "      <td>153.993</td>\n",
       "      <td>292093</td>\n",
       "      <td>4</td>\n",
       "    </tr>\n",
       "    <tr>\n",
       "      <th>3</th>\n",
       "      <td>73</td>\n",
       "      <td>1</td>\n",
       "      <td>1</td>\n",
       "      <td>0.563</td>\n",
       "      <td>0.496</td>\n",
       "      <td>6</td>\n",
       "      <td>-9.381</td>\n",
       "      <td>0</td>\n",
       "      <td>0.4060</td>\n",
       "      <td>0.068500</td>\n",
       "      <td>0.000058</td>\n",
       "      <td>0.173</td>\n",
       "      <td>0.426</td>\n",
       "      <td>139.993</td>\n",
       "      <td>329320</td>\n",
       "      <td>4</td>\n",
       "    </tr>\n",
       "    <tr>\n",
       "      <th>4</th>\n",
       "      <td>66</td>\n",
       "      <td>1</td>\n",
       "      <td>1</td>\n",
       "      <td>0.759</td>\n",
       "      <td>0.891</td>\n",
       "      <td>11</td>\n",
       "      <td>-2.983</td>\n",
       "      <td>1</td>\n",
       "      <td>0.2570</td>\n",
       "      <td>0.029800</td>\n",
       "      <td>0.000000</td>\n",
       "      <td>0.141</td>\n",
       "      <td>0.587</td>\n",
       "      <td>98.579</td>\n",
       "      <td>216707</td>\n",
       "      <td>4</td>\n",
       "    </tr>\n",
       "  </tbody>\n",
       "</table>\n",
       "</div>"
      ],
      "text/plain": [
       "   popularity  explicit  user_liked  danceability  energy  key  loudness  \\\n",
       "0          60         1           1         0.436   0.896    0    -4.741   \n",
       "1          66         1           1         0.841   0.898    8    -7.135   \n",
       "2          79         1           1         0.542   0.914    0    -4.747   \n",
       "3          73         1           1         0.563   0.496    6    -9.381   \n",
       "4          66         1           1         0.759   0.891   11    -2.983   \n",
       "\n",
       "   mode  speechiness  acousticness  instrumentalness  liveness  valence  \\\n",
       "0     1       0.0385      0.000056          0.010600     0.165    0.931   \n",
       "1     1       0.1040      0.271000          0.015100     0.304    0.931   \n",
       "2     0       0.1130      0.016100          0.000000     0.744    0.576   \n",
       "3     0       0.4060      0.068500          0.000058     0.173    0.426   \n",
       "4     1       0.2570      0.029800          0.000000     0.141    0.587   \n",
       "\n",
       "     tempo  duration_ms  time_signature  \n",
       "0  174.962       174760               4  \n",
       "1   98.401       169727               4  \n",
       "2  153.993       292093               4  \n",
       "3  139.993       329320               4  \n",
       "4   98.579       216707               4  "
      ]
     },
     "execution_count": 12,
     "metadata": {},
     "output_type": "execute_result"
    }
   ],
   "source": [
    "to_class_tracks.head()"
   ]
  },
  {
   "cell_type": "markdown",
   "id": "516c3c56-d2d1-4ce2-86fd-6a3683f1aeab",
   "metadata": {},
   "source": [
    "___\n",
    "### Step 2: Feature Preprocessing and Baseline Score\n",
    "\n",
    "Now that we have all the Audio Features and specific Track Metadata Features as numerical features, we can:\n",
    "- Identify our baseline model performance (split between what I have liked and what I haven't)\n",
    "- Preprocessing to prepare for Pipeline and Modeling"
   ]
  },
  {
   "cell_type": "code",
   "execution_count": 13,
   "id": "f7ff370d-0e92-4c4d-a8cf-422fb1d10a82",
   "metadata": {},
   "outputs": [],
   "source": [
    "X = to_class_tracks.drop(columns=['user_liked'])\n",
    "y = to_class_tracks['user_liked']"
   ]
  },
  {
   "cell_type": "code",
   "execution_count": 14,
   "id": "8c88eac8-b31b-47e2-bdbe-c32444dc2d94",
   "metadata": {},
   "outputs": [
    {
     "data": {
      "text/plain": [
       "((2543, 15), (2543,))"
      ]
     },
     "execution_count": 14,
     "metadata": {},
     "output_type": "execute_result"
    }
   ],
   "source": [
    "X.shape, y.shape"
   ]
  },
  {
   "cell_type": "markdown",
   "id": "01cac8cf-d98e-4be5-9531-fbd5175e2b85",
   "metadata": {},
   "source": [
    "### Baseline Model Score: ~75%"
   ]
  },
  {
   "cell_type": "code",
   "execution_count": 34,
   "id": "cad526eb-16cb-48c0-a547-756543f35dca",
   "metadata": {},
   "outputs": [
    {
     "data": {
      "text/plain": [
       "0    0.750688\n",
       "1    0.249312\n",
       "Name: user_liked, dtype: float64"
      ]
     },
     "execution_count": 34,
     "metadata": {},
     "output_type": "execute_result"
    }
   ],
   "source": [
    "y.value_counts(normalize=True)\n"
   ]
  },
  {
   "cell_type": "code",
   "execution_count": 33,
   "id": "f2b0572c-37e8-4b0f-9c7a-0cb9e2e846d2",
   "metadata": {},
   "outputs": [],
   "source": [
    "baseline = y.value_counts(normalize=True).max()"
   ]
  },
  {
   "cell_type": "code",
   "execution_count": 35,
   "id": "44ca25a4-3855-4214-9e45-24f729666b2e",
   "metadata": {},
   "outputs": [
    {
     "data": {
      "text/plain": [
       "0.7506881635863154"
      ]
     },
     "execution_count": 35,
     "metadata": {},
     "output_type": "execute_result"
    }
   ],
   "source": [
    "baseline"
   ]
  },
  {
   "cell_type": "markdown",
   "id": "f399dc7d-6858-4575-a5e1-e3f95ad2a2dd",
   "metadata": {},
   "source": [
    "#### Train & Test Split for Pipeline"
   ]
  },
  {
   "cell_type": "code",
   "execution_count": 16,
   "id": "db264e26-0cfe-4564-8928-49a4a4f62b0a",
   "metadata": {},
   "outputs": [],
   "source": [
    "X_train, X_test, y_train, y_test = train_test_split(X,\n",
    "                                                    y,\n",
    "                                                    stratify=y,\n",
    "                                                    random_state=42)"
   ]
  },
  {
   "cell_type": "code",
   "execution_count": 17,
   "id": "08c92963-f70a-4af1-9ab5-4787da394335",
   "metadata": {},
   "outputs": [
    {
     "data": {
      "text/plain": [
       "((1907, 15), (636, 15), (1907,), (636,))"
      ]
     },
     "execution_count": 17,
     "metadata": {},
     "output_type": "execute_result"
    }
   ],
   "source": [
    "X_train.shape, X_test.shape, y_train.shape, y_test.shape"
   ]
  },
  {
   "cell_type": "markdown",
   "id": "6240cab1-32a9-44f7-bb87-5e9a5d942a84",
   "metadata": {},
   "source": [
    "### StandardScaler:\n",
    "- In order for our model to be as accurate at classifying which songs have been liked based on Audio Features, we need to ensure the numerical features are on the same scale, which is where StandardScaler comes into the mix"
   ]
  },
  {
   "cell_type": "code",
   "execution_count": 18,
   "id": "39d62b2c-bf6d-4fde-8518-b570b175e5fa",
   "metadata": {},
   "outputs": [],
   "source": [
    "ss = StandardScaler()"
   ]
  },
  {
   "cell_type": "code",
   "execution_count": 19,
   "id": "5b8f9a2c-7a7e-4aa0-88c8-d676893c2d74",
   "metadata": {},
   "outputs": [],
   "source": [
    "X_train_sc = ss.fit_transform(X_train)"
   ]
  },
  {
   "cell_type": "code",
   "execution_count": 20,
   "id": "7bfe6d70-c869-42b5-a4e4-12b222d01b4f",
   "metadata": {},
   "outputs": [],
   "source": [
    "X_train_sc = pd.DataFrame(X_train_sc, columns = ss.get_feature_names_out())"
   ]
  },
  {
   "cell_type": "code",
   "execution_count": 21,
   "id": "a2cc75f1-9607-4ce6-8e39-7bd98f2339e7",
   "metadata": {},
   "outputs": [],
   "source": [
    "X_test_sc = ss.transform(X_test)"
   ]
  },
  {
   "cell_type": "code",
   "execution_count": 22,
   "id": "0c3fccbc-28d5-4dd4-96e6-dd3a1a82267c",
   "metadata": {},
   "outputs": [],
   "source": [
    "X_test_sc = pd.DataFrame(X_test_sc, columns = ss.get_feature_names_out())"
   ]
  },
  {
   "cell_type": "code",
   "execution_count": 23,
   "id": "503fb6c0-248b-46a7-a830-0b06709b2dce",
   "metadata": {},
   "outputs": [
    {
     "data": {
      "text/plain": [
       "((1907, 15), (636, 15))"
      ]
     },
     "execution_count": 23,
     "metadata": {},
     "output_type": "execute_result"
    }
   ],
   "source": [
    "X_train_sc.shape, X_test_sc.shape"
   ]
  },
  {
   "cell_type": "code",
   "execution_count": 24,
   "id": "140c55b3-531e-4138-84ec-bbb18606fe91",
   "metadata": {},
   "outputs": [
    {
     "data": {
      "text/html": [
       "<div>\n",
       "<style scoped>\n",
       "    .dataframe tbody tr th:only-of-type {\n",
       "        vertical-align: middle;\n",
       "    }\n",
       "\n",
       "    .dataframe tbody tr th {\n",
       "        vertical-align: top;\n",
       "    }\n",
       "\n",
       "    .dataframe thead th {\n",
       "        text-align: right;\n",
       "    }\n",
       "</style>\n",
       "<table border=\"1\" class=\"dataframe\">\n",
       "  <thead>\n",
       "    <tr style=\"text-align: right;\">\n",
       "      <th></th>\n",
       "      <th>popularity</th>\n",
       "      <th>explicit</th>\n",
       "      <th>danceability</th>\n",
       "      <th>energy</th>\n",
       "      <th>key</th>\n",
       "      <th>loudness</th>\n",
       "      <th>mode</th>\n",
       "      <th>speechiness</th>\n",
       "      <th>acousticness</th>\n",
       "      <th>instrumentalness</th>\n",
       "      <th>liveness</th>\n",
       "      <th>valence</th>\n",
       "      <th>tempo</th>\n",
       "      <th>duration_ms</th>\n",
       "      <th>time_signature</th>\n",
       "    </tr>\n",
       "  </thead>\n",
       "  <tbody>\n",
       "    <tr>\n",
       "      <th>0</th>\n",
       "      <td>-0.901759</td>\n",
       "      <td>-0.380339</td>\n",
       "      <td>-1.070703</td>\n",
       "      <td>-0.292769</td>\n",
       "      <td>-0.391082</td>\n",
       "      <td>0.110952</td>\n",
       "      <td>0.691588</td>\n",
       "      <td>-0.588591</td>\n",
       "      <td>1.022104</td>\n",
       "      <td>-0.631962</td>\n",
       "      <td>0.348507</td>\n",
       "      <td>-0.679761</td>\n",
       "      <td>-0.613813</td>\n",
       "      <td>1.077363</td>\n",
       "      <td>0.20944</td>\n",
       "    </tr>\n",
       "    <tr>\n",
       "      <th>1</th>\n",
       "      <td>1.045942</td>\n",
       "      <td>2.629232</td>\n",
       "      <td>1.531592</td>\n",
       "      <td>0.136118</td>\n",
       "      <td>0.727050</td>\n",
       "      <td>-0.190957</td>\n",
       "      <td>-1.445947</td>\n",
       "      <td>2.082018</td>\n",
       "      <td>-0.938589</td>\n",
       "      <td>-0.633153</td>\n",
       "      <td>0.257829</td>\n",
       "      <td>1.672818</td>\n",
       "      <td>-0.777062</td>\n",
       "      <td>0.413340</td>\n",
       "      <td>0.20944</td>\n",
       "    </tr>\n",
       "    <tr>\n",
       "      <th>2</th>\n",
       "      <td>-1.564806</td>\n",
       "      <td>-0.380339</td>\n",
       "      <td>-0.496171</td>\n",
       "      <td>-1.752817</td>\n",
       "      <td>-0.950148</td>\n",
       "      <td>-1.951334</td>\n",
       "      <td>0.691588</td>\n",
       "      <td>-0.441211</td>\n",
       "      <td>1.536185</td>\n",
       "      <td>-0.625476</td>\n",
       "      <td>0.523818</td>\n",
       "      <td>-0.645884</td>\n",
       "      <td>-0.810115</td>\n",
       "      <td>-0.818667</td>\n",
       "      <td>0.20944</td>\n",
       "    </tr>\n",
       "    <tr>\n",
       "      <th>3</th>\n",
       "      <td>-0.943199</td>\n",
       "      <td>-0.380339</td>\n",
       "      <td>0.038933</td>\n",
       "      <td>0.051807</td>\n",
       "      <td>0.167984</td>\n",
       "      <td>0.168296</td>\n",
       "      <td>-1.445947</td>\n",
       "      <td>0.169214</td>\n",
       "      <td>-0.881654</td>\n",
       "      <td>-0.633153</td>\n",
       "      <td>-0.584269</td>\n",
       "      <td>1.292642</td>\n",
       "      <td>2.006364</td>\n",
       "      <td>-0.820611</td>\n",
       "      <td>0.20944</td>\n",
       "    </tr>\n",
       "    <tr>\n",
       "      <th>4</th>\n",
       "      <td>-1.274723</td>\n",
       "      <td>-0.380339</td>\n",
       "      <td>-0.710212</td>\n",
       "      <td>0.488025</td>\n",
       "      <td>1.006583</td>\n",
       "      <td>-0.163614</td>\n",
       "      <td>-1.445947</td>\n",
       "      <td>-0.215437</td>\n",
       "      <td>0.472093</td>\n",
       "      <td>-0.618025</td>\n",
       "      <td>1.345967</td>\n",
       "      <td>1.187246</td>\n",
       "      <td>1.009524</td>\n",
       "      <td>0.805443</td>\n",
       "      <td>0.20944</td>\n",
       "    </tr>\n",
       "  </tbody>\n",
       "</table>\n",
       "</div>"
      ],
      "text/plain": [
       "   popularity  explicit  danceability    energy       key  loudness      mode  \\\n",
       "0   -0.901759 -0.380339     -1.070703 -0.292769 -0.391082  0.110952  0.691588   \n",
       "1    1.045942  2.629232      1.531592  0.136118  0.727050 -0.190957 -1.445947   \n",
       "2   -1.564806 -0.380339     -0.496171 -1.752817 -0.950148 -1.951334  0.691588   \n",
       "3   -0.943199 -0.380339      0.038933  0.051807  0.167984  0.168296 -1.445947   \n",
       "4   -1.274723 -0.380339     -0.710212  0.488025  1.006583 -0.163614 -1.445947   \n",
       "\n",
       "   speechiness  acousticness  instrumentalness  liveness   valence     tempo  \\\n",
       "0    -0.588591      1.022104         -0.631962  0.348507 -0.679761 -0.613813   \n",
       "1     2.082018     -0.938589         -0.633153  0.257829  1.672818 -0.777062   \n",
       "2    -0.441211      1.536185         -0.625476  0.523818 -0.645884 -0.810115   \n",
       "3     0.169214     -0.881654         -0.633153 -0.584269  1.292642  2.006364   \n",
       "4    -0.215437      0.472093         -0.618025  1.345967  1.187246  1.009524   \n",
       "\n",
       "   duration_ms  time_signature  \n",
       "0     1.077363         0.20944  \n",
       "1     0.413340         0.20944  \n",
       "2    -0.818667         0.20944  \n",
       "3    -0.820611         0.20944  \n",
       "4     0.805443         0.20944  "
      ]
     },
     "execution_count": 24,
     "metadata": {},
     "output_type": "execute_result"
    }
   ],
   "source": [
    "X_train_sc.head()"
   ]
  },
  {
   "cell_type": "markdown",
   "id": "5fac8454-6dc2-47da-904b-ad36d2627a24",
   "metadata": {},
   "source": [
    "### Polynomial Features:\n",
    "- Currently we have 15 feature columns for our X data to feed our models in an effort to classify whether or not a user will like a given song.\n",
    "- 15 features might not be enough for our models to beat our baseline score of 75% and so we are going to experiment with Polynomial Features\n",
    "- Polynomial Features gives us the ability to create new features that are either:\n",
    "    - individual features times themselves i.e. a^2\n",
    "    - individual features multiplied i.e. ab\n",
    "- In order to differentiate which set is the best fit for which model, we will run each set through the RandomizedSearchCV and compare results:\n",
    "    - StandardScaled Data Only\n",
    "    - StandardScaled Data and Polynomial Features"
   ]
  },
  {
   "cell_type": "code",
   "execution_count": 25,
   "id": "756072a4-7e7c-4336-a4ed-516d5c53c232",
   "metadata": {},
   "outputs": [],
   "source": [
    "poly = PolynomialFeatures(degree=2, interaction_only=False)"
   ]
  },
  {
   "cell_type": "code",
   "execution_count": 26,
   "id": "569212e4-7a43-4814-a50d-e7c79d16e9bd",
   "metadata": {},
   "outputs": [],
   "source": [
    "X_train_poly = poly.fit_transform(X_train_sc)"
   ]
  },
  {
   "cell_type": "code",
   "execution_count": 27,
   "id": "c44bf168-a3c7-42b0-9367-62babe0d7039",
   "metadata": {},
   "outputs": [],
   "source": [
    "X_train_poly = pd.DataFrame(X_train_poly, columns=poly.get_feature_names_out())"
   ]
  },
  {
   "cell_type": "code",
   "execution_count": 28,
   "id": "eb57c5b0-3502-44da-817d-9448bb15471d",
   "metadata": {},
   "outputs": [],
   "source": [
    "X_test_poly = poly.transform(X_test_sc)"
   ]
  },
  {
   "cell_type": "code",
   "execution_count": 29,
   "id": "9ce2b328-e98a-4b88-887b-0a446bc24bd5",
   "metadata": {},
   "outputs": [],
   "source": [
    "X_test_poly = pd.DataFrame(X_test_poly, columns=poly.get_feature_names_out())"
   ]
  },
  {
   "cell_type": "code",
   "execution_count": 30,
   "id": "fb7f631d-9997-482c-bc7d-f8d70022af3b",
   "metadata": {},
   "outputs": [
    {
     "data": {
      "text/plain": [
       "((1907, 136), (636, 136))"
      ]
     },
     "execution_count": 30,
     "metadata": {},
     "output_type": "execute_result"
    }
   ],
   "source": [
    "X_train_poly.shape, X_test_poly.shape"
   ]
  },
  {
   "cell_type": "markdown",
   "id": "75aa9016-5542-4453-960d-ca68cac59b09",
   "metadata": {},
   "source": [
    "- As you can see from the shapes, we effectively increased our features from only 15 to 136 different features.\n",
    "- Next step is to feed our different datasets through our RandomizedSearchCV Pipeline to identify the best model for both datasets, capture their scores, compare, and continue to look for the best model we can make for this classification problem."
   ]
  },
  {
   "cell_type": "markdown",
   "id": "3e05ebdb-eeb4-4786-9bdd-6d350713c112",
   "metadata": {},
   "source": [
    "___"
   ]
  },
  {
   "cell_type": "markdown",
   "id": "210c8898-357a-4533-8431-28296944cdb1",
   "metadata": {},
   "source": [
    "### Step 3: Identify Best Model for this dataset of Audio Track Features \n",
    "\n",
    "- In order for us to identify the best classification model for the task of classifying a user's taste based on audio features, we are going to run our data through multiple pipelines, each with a different estimator using `Randomized Search CV`.\n",
    "- `Randomized Search CV` takes `model tuples` and associating `params_grids` as parameters when finding the best hyperparameters.\n",
    "- We have created a dictionary called model_dict to store various models and their associated param grids for future use, saved in the model_methods.py file.\n",
    "- To best prepare our data we tried a couple of preprocessing and feature engineering combinations to find the best orientation of parameters for classifying our user's music taste\n",
    "- Estimators used in this project are:\n",
    "    - `MultinomialNB`\n",
    "    - `BernoulliNB`\n",
    "    - `RandomForestClasssifier`\n",
    "    - `LogisticRegression`\n",
    "    - `AdaBoostClassifier`\n",
    "    - `BaggingClassifier`\n",
    "- Once each respective best version has been found we can run it through our evaluation function to capture:\n",
    "    - `Train and Test Accuracy`\n",
    "    - `Balanced Accuracy`\n",
    "    - `Recall`\n",
    "    - `Precision`\n",
    "    - `F1`\n",
    "- Then plot the confusion matrix and analyze peformance"
   ]
  },
  {
   "cell_type": "code",
   "execution_count": 39,
   "id": "d28f1a47-aaa7-4ea2-82b8-d39dc2673471",
   "metadata": {
    "collapsed": true,
    "jupyter": {
     "outputs_hidden": true
    },
    "tags": []
   },
   "outputs": [
    {
     "name": "stdout",
     "output_type": "stream",
     "text": [
      "Pipeline(steps=[('rfc', RandomForestClassifier())])\n",
      "Pipeline(steps=[('logreg', LogisticRegression())])\n"
     ]
    },
    {
     "name": "stderr",
     "output_type": "stream",
     "text": [
      "/Users/christopherjoyce/opt/anaconda3/lib/python3.9/site-packages/sklearn/linear_model/_sag.py:352: ConvergenceWarning: The max_iter was reached which means the coef_ did not converge\n",
      "  warnings.warn(\n",
      "/Users/christopherjoyce/opt/anaconda3/lib/python3.9/site-packages/sklearn/linear_model/_sag.py:352: ConvergenceWarning: The max_iter was reached which means the coef_ did not converge\n",
      "  warnings.warn(\n",
      "/Users/christopherjoyce/opt/anaconda3/lib/python3.9/site-packages/sklearn/linear_model/_sag.py:352: ConvergenceWarning: The max_iter was reached which means the coef_ did not converge\n",
      "  warnings.warn(\n",
      "/Users/christopherjoyce/opt/anaconda3/lib/python3.9/site-packages/sklearn/linear_model/_sag.py:352: ConvergenceWarning: The max_iter was reached which means the coef_ did not converge\n",
      "  warnings.warn(\n",
      "/Users/christopherjoyce/opt/anaconda3/lib/python3.9/site-packages/sklearn/linear_model/_sag.py:352: ConvergenceWarning: The max_iter was reached which means the coef_ did not converge\n",
      "  warnings.warn(\n",
      "/Users/christopherjoyce/opt/anaconda3/lib/python3.9/site-packages/sklearn/linear_model/_sag.py:352: ConvergenceWarning: The max_iter was reached which means the coef_ did not converge\n",
      "  warnings.warn(\n",
      "/Users/christopherjoyce/opt/anaconda3/lib/python3.9/site-packages/sklearn/linear_model/_sag.py:352: ConvergenceWarning: The max_iter was reached which means the coef_ did not converge\n",
      "  warnings.warn(\n",
      "/Users/christopherjoyce/opt/anaconda3/lib/python3.9/site-packages/sklearn/linear_model/_sag.py:352: ConvergenceWarning: The max_iter was reached which means the coef_ did not converge\n",
      "  warnings.warn(\n",
      "/Users/christopherjoyce/opt/anaconda3/lib/python3.9/site-packages/sklearn/linear_model/_sag.py:352: ConvergenceWarning: The max_iter was reached which means the coef_ did not converge\n",
      "  warnings.warn(\n",
      "/Users/christopherjoyce/opt/anaconda3/lib/python3.9/site-packages/sklearn/linear_model/_sag.py:352: ConvergenceWarning: The max_iter was reached which means the coef_ did not converge\n",
      "  warnings.warn(\n",
      "/Users/christopherjoyce/opt/anaconda3/lib/python3.9/site-packages/sklearn/linear_model/_sag.py:352: ConvergenceWarning: The max_iter was reached which means the coef_ did not converge\n",
      "  warnings.warn(\n",
      "/Users/christopherjoyce/opt/anaconda3/lib/python3.9/site-packages/sklearn/linear_model/_sag.py:352: ConvergenceWarning: The max_iter was reached which means the coef_ did not converge\n",
      "  warnings.warn(\n",
      "/Users/christopherjoyce/opt/anaconda3/lib/python3.9/site-packages/sklearn/linear_model/_sag.py:352: ConvergenceWarning: The max_iter was reached which means the coef_ did not converge\n",
      "  warnings.warn(\n",
      "/Users/christopherjoyce/opt/anaconda3/lib/python3.9/site-packages/sklearn/linear_model/_sag.py:352: ConvergenceWarning: The max_iter was reached which means the coef_ did not converge\n",
      "  warnings.warn(\n",
      "/Users/christopherjoyce/opt/anaconda3/lib/python3.9/site-packages/sklearn/linear_model/_sag.py:352: ConvergenceWarning: The max_iter was reached which means the coef_ did not converge\n",
      "  warnings.warn(\n",
      "/Users/christopherjoyce/opt/anaconda3/lib/python3.9/site-packages/sklearn/linear_model/_sag.py:352: ConvergenceWarning: The max_iter was reached which means the coef_ did not converge\n",
      "  warnings.warn(\n",
      "/Users/christopherjoyce/opt/anaconda3/lib/python3.9/site-packages/sklearn/linear_model/_sag.py:352: ConvergenceWarning: The max_iter was reached which means the coef_ did not converge\n",
      "  warnings.warn(\n",
      "/Users/christopherjoyce/opt/anaconda3/lib/python3.9/site-packages/sklearn/linear_model/_sag.py:352: ConvergenceWarning: The max_iter was reached which means the coef_ did not converge\n",
      "  warnings.warn(\n",
      "/Users/christopherjoyce/opt/anaconda3/lib/python3.9/site-packages/sklearn/linear_model/_sag.py:352: ConvergenceWarning: The max_iter was reached which means the coef_ did not converge\n",
      "  warnings.warn(\n",
      "/Users/christopherjoyce/opt/anaconda3/lib/python3.9/site-packages/sklearn/linear_model/_sag.py:352: ConvergenceWarning: The max_iter was reached which means the coef_ did not converge\n",
      "  warnings.warn(\n",
      "/Users/christopherjoyce/opt/anaconda3/lib/python3.9/site-packages/sklearn/linear_model/_sag.py:352: ConvergenceWarning: The max_iter was reached which means the coef_ did not converge\n",
      "  warnings.warn(\n",
      "/Users/christopherjoyce/opt/anaconda3/lib/python3.9/site-packages/sklearn/linear_model/_sag.py:352: ConvergenceWarning: The max_iter was reached which means the coef_ did not converge\n",
      "  warnings.warn(\n",
      "/Users/christopherjoyce/opt/anaconda3/lib/python3.9/site-packages/sklearn/linear_model/_sag.py:352: ConvergenceWarning: The max_iter was reached which means the coef_ did not converge\n",
      "  warnings.warn(\n",
      "/Users/christopherjoyce/opt/anaconda3/lib/python3.9/site-packages/sklearn/linear_model/_sag.py:352: ConvergenceWarning: The max_iter was reached which means the coef_ did not converge\n",
      "  warnings.warn(\n",
      "/Users/christopherjoyce/opt/anaconda3/lib/python3.9/site-packages/sklearn/linear_model/_sag.py:352: ConvergenceWarning: The max_iter was reached which means the coef_ did not converge\n",
      "  warnings.warn(\n",
      "/Users/christopherjoyce/opt/anaconda3/lib/python3.9/site-packages/sklearn/linear_model/_sag.py:352: ConvergenceWarning: The max_iter was reached which means the coef_ did not converge\n",
      "  warnings.warn(\n",
      "/Users/christopherjoyce/opt/anaconda3/lib/python3.9/site-packages/sklearn/linear_model/_sag.py:352: ConvergenceWarning: The max_iter was reached which means the coef_ did not converge\n",
      "  warnings.warn(\n",
      "/Users/christopherjoyce/opt/anaconda3/lib/python3.9/site-packages/sklearn/linear_model/_sag.py:352: ConvergenceWarning: The max_iter was reached which means the coef_ did not converge\n",
      "  warnings.warn(\n",
      "/Users/christopherjoyce/opt/anaconda3/lib/python3.9/site-packages/sklearn/linear_model/_sag.py:352: ConvergenceWarning: The max_iter was reached which means the coef_ did not converge\n",
      "  warnings.warn(\n",
      "/Users/christopherjoyce/opt/anaconda3/lib/python3.9/site-packages/sklearn/linear_model/_sag.py:352: ConvergenceWarning: The max_iter was reached which means the coef_ did not converge\n",
      "  warnings.warn(\n",
      "/Users/christopherjoyce/opt/anaconda3/lib/python3.9/site-packages/sklearn/linear_model/_sag.py:352: ConvergenceWarning: The max_iter was reached which means the coef_ did not converge\n",
      "  warnings.warn(\n",
      "/Users/christopherjoyce/opt/anaconda3/lib/python3.9/site-packages/sklearn/linear_model/_sag.py:352: ConvergenceWarning: The max_iter was reached which means the coef_ did not converge\n",
      "  warnings.warn(\n",
      "/Users/christopherjoyce/opt/anaconda3/lib/python3.9/site-packages/sklearn/linear_model/_sag.py:352: ConvergenceWarning: The max_iter was reached which means the coef_ did not converge\n",
      "  warnings.warn(\n",
      "/Users/christopherjoyce/opt/anaconda3/lib/python3.9/site-packages/sklearn/linear_model/_sag.py:352: ConvergenceWarning: The max_iter was reached which means the coef_ did not converge\n",
      "  warnings.warn(\n",
      "/Users/christopherjoyce/opt/anaconda3/lib/python3.9/site-packages/sklearn/linear_model/_sag.py:352: ConvergenceWarning: The max_iter was reached which means the coef_ did not converge\n",
      "  warnings.warn(\n",
      "/Users/christopherjoyce/opt/anaconda3/lib/python3.9/site-packages/sklearn/linear_model/_sag.py:352: ConvergenceWarning: The max_iter was reached which means the coef_ did not converge\n",
      "  warnings.warn(\n",
      "/Users/christopherjoyce/opt/anaconda3/lib/python3.9/site-packages/sklearn/linear_model/_sag.py:352: ConvergenceWarning: The max_iter was reached which means the coef_ did not converge\n",
      "  warnings.warn(\n",
      "/Users/christopherjoyce/opt/anaconda3/lib/python3.9/site-packages/sklearn/linear_model/_sag.py:352: ConvergenceWarning: The max_iter was reached which means the coef_ did not converge\n",
      "  warnings.warn(\n",
      "/Users/christopherjoyce/opt/anaconda3/lib/python3.9/site-packages/sklearn/linear_model/_sag.py:352: ConvergenceWarning: The max_iter was reached which means the coef_ did not converge\n",
      "  warnings.warn(\n",
      "/Users/christopherjoyce/opt/anaconda3/lib/python3.9/site-packages/sklearn/linear_model/_sag.py:352: ConvergenceWarning: The max_iter was reached which means the coef_ did not converge\n",
      "  warnings.warn(\n",
      "/Users/christopherjoyce/opt/anaconda3/lib/python3.9/site-packages/sklearn/linear_model/_sag.py:352: ConvergenceWarning: The max_iter was reached which means the coef_ did not converge\n",
      "  warnings.warn(\n",
      "/Users/christopherjoyce/opt/anaconda3/lib/python3.9/site-packages/sklearn/linear_model/_sag.py:352: ConvergenceWarning: The max_iter was reached which means the coef_ did not converge\n",
      "  warnings.warn(\n",
      "/Users/christopherjoyce/opt/anaconda3/lib/python3.9/site-packages/sklearn/linear_model/_sag.py:352: ConvergenceWarning: The max_iter was reached which means the coef_ did not converge\n",
      "  warnings.warn(\n",
      "/Users/christopherjoyce/opt/anaconda3/lib/python3.9/site-packages/sklearn/linear_model/_sag.py:352: ConvergenceWarning: The max_iter was reached which means the coef_ did not converge\n",
      "  warnings.warn(\n",
      "/Users/christopherjoyce/opt/anaconda3/lib/python3.9/site-packages/sklearn/linear_model/_sag.py:352: ConvergenceWarning: The max_iter was reached which means the coef_ did not converge\n",
      "  warnings.warn(\n",
      "/Users/christopherjoyce/opt/anaconda3/lib/python3.9/site-packages/sklearn/linear_model/_sag.py:352: ConvergenceWarning: The max_iter was reached which means the coef_ did not converge\n",
      "  warnings.warn(\n",
      "/Users/christopherjoyce/opt/anaconda3/lib/python3.9/site-packages/sklearn/linear_model/_sag.py:352: ConvergenceWarning: The max_iter was reached which means the coef_ did not converge\n",
      "  warnings.warn(\n",
      "/Users/christopherjoyce/opt/anaconda3/lib/python3.9/site-packages/sklearn/linear_model/_sag.py:352: ConvergenceWarning: The max_iter was reached which means the coef_ did not converge\n",
      "  warnings.warn(\n",
      "/Users/christopherjoyce/opt/anaconda3/lib/python3.9/site-packages/sklearn/linear_model/_sag.py:352: ConvergenceWarning: The max_iter was reached which means the coef_ did not converge\n",
      "  warnings.warn(\n",
      "/Users/christopherjoyce/opt/anaconda3/lib/python3.9/site-packages/sklearn/linear_model/_sag.py:352: ConvergenceWarning: The max_iter was reached which means the coef_ did not converge\n",
      "  warnings.warn(\n"
     ]
    },
    {
     "name": "stdout",
     "output_type": "stream",
     "text": [
      "Pipeline(steps=[('abc', AdaBoostClassifier())])\n"
     ]
    },
    {
     "name": "stderr",
     "output_type": "stream",
     "text": [
      "/Users/christopherjoyce/opt/anaconda3/lib/python3.9/site-packages/sklearn/model_selection/_validation.py:372: FitFailedWarning: \n",
      "10 fits failed out of a total of 50.\n",
      "The score on these train-test partitions for these parameters will be set to nan.\n",
      "If these failures are not expected, you can try to debug them by setting error_score='raise'.\n",
      "\n",
      "Below are more details about the failures:\n",
      "--------------------------------------------------------------------------------\n",
      "10 fits failed with the following error:\n",
      "Traceback (most recent call last):\n",
      "  File \"/Users/christopherjoyce/opt/anaconda3/lib/python3.9/site-packages/sklearn/model_selection/_validation.py\", line 680, in _fit_and_score\n",
      "    estimator.fit(X_train, y_train, **fit_params)\n",
      "  File \"/Users/christopherjoyce/opt/anaconda3/lib/python3.9/site-packages/sklearn/pipeline.py\", line 394, in fit\n",
      "    self._final_estimator.fit(Xt, y, **fit_params_last_step)\n",
      "  File \"/Users/christopherjoyce/opt/anaconda3/lib/python3.9/site-packages/sklearn/ensemble/_weight_boosting.py\", line 486, in fit\n",
      "    return super().fit(X, y, sample_weight)\n",
      "  File \"/Users/christopherjoyce/opt/anaconda3/lib/python3.9/site-packages/sklearn/ensemble/_weight_boosting.py\", line 132, in fit\n",
      "    self._validate_estimator()\n",
      "  File \"/Users/christopherjoyce/opt/anaconda3/lib/python3.9/site-packages/sklearn/ensemble/_weight_boosting.py\", line 495, in _validate_estimator\n",
      "    raise TypeError(\n",
      "TypeError: AdaBoostClassifier with algorithm='SAMME.R' requires that the weak learner supports the calculation of class probabilities with a predict_proba method.\n",
      "Please change the base estimator or set algorithm='SAMME' instead.\n",
      "\n",
      "  warnings.warn(some_fits_failed_message, FitFailedWarning)\n"
     ]
    },
    {
     "name": "stdout",
     "output_type": "stream",
     "text": [
      "Pipeline(steps=[('bgc', BaggingClassifier())])\n",
      "Pipeline(steps=[('svc', SVC())])\n",
      "total time taken:  2580.889941930771\n"
     ]
    }
   ],
   "source": [
    "with warnings.catch_warnings():\n",
    "    warnings.filterwarnings(\"ignore\", category=ConvergenceWarning)\n",
    "    warnings.filterwarnings(\"ignore\", category=UserWarning)\n",
    "    \n",
    "    start_time = time.time()\n",
    "    best_models = model_methods.get_best_models(X_train_poly, y_train)\n",
    "    end_time = time.time()\n",
    "    print(\"total time taken: \", end_time-start_time)"
   ]
  },
  {
   "cell_type": "code",
   "execution_count": 37,
   "id": "733ca6d5-71f4-45b1-8c36-8477206ee546",
   "metadata": {},
   "outputs": [
    {
     "name": "stdout",
     "output_type": "stream",
     "text": [
      "total time taken:  28.89018702507019\n"
     ]
    },
    {
     "name": "stderr",
     "output_type": "stream",
     "text": [
      "/Users/christopherjoyce/opt/anaconda3/lib/python3.9/site-packages/sklearn/metrics/_classification.py:1318: UndefinedMetricWarning: Precision is ill-defined and being set to 0.0 due to no predicted samples. Use `zero_division` parameter to control this behavior.\n",
      "  _warn_prf(average, modifier, msg_start, len(result))\n"
     ]
    }
   ],
   "source": [
    "start_time = time.time()\n",
    "initial_scores = model_methods.record_scores(baseline, X_train_sc,y_train,X_test_sc,y_test,best_models,model_name='first run')\n",
    "end_time = time.time()\n",
    "print(\"total time taken: \", end_time-start_time)"
   ]
  },
  {
   "cell_type": "code",
   "execution_count": 38,
   "id": "692b3fb0-7ac4-485f-97b1-17ed03cef90a",
   "metadata": {},
   "outputs": [],
   "source": [
    "initial_scores.to_csv('../data/model_scores.csv')"
   ]
  },
  {
   "cell_type": "code",
   "execution_count": null,
   "id": "a456a534-ffa8-4f21-8923-129ae9cd03e1",
   "metadata": {},
   "outputs": [],
   "source": []
  },
  {
   "cell_type": "code",
   "execution_count": 40,
   "id": "04a74bec-2c3e-4ff9-b347-a381f42d8957",
   "metadata": {},
   "outputs": [
    {
     "name": "stderr",
     "output_type": "stream",
     "text": [
      "/Users/christopherjoyce/opt/anaconda3/lib/python3.9/site-packages/sklearn/linear_model/_sag.py:352: ConvergenceWarning: The max_iter was reached which means the coef_ did not converge\n",
      "  warnings.warn(\n",
      "/Users/christopherjoyce/opt/anaconda3/lib/python3.9/site-packages/sklearn/metrics/_classification.py:1318: UndefinedMetricWarning: Precision is ill-defined and being set to 0.0 due to no predicted samples. Use `zero_division` parameter to control this behavior.\n",
      "  _warn_prf(average, modifier, msg_start, len(result))\n"
     ]
    }
   ],
   "source": [
    "v2_scores = model_methods.record_scores(baseline, X_train_poly,y_train,X_test_poly,y_test,best_models,model_name='og_poly', df_scores=initial_scores)"
   ]
  },
  {
   "cell_type": "code",
   "execution_count": 41,
   "id": "3a582f0a-2be2-41a2-8865-2faa54f37527",
   "metadata": {},
   "outputs": [],
   "source": [
    "v2_scores.to_csv('../data/model_scores.csv')"
   ]
  },
  {
   "cell_type": "code",
   "execution_count": null,
   "id": "75dc9b6d-de37-496c-98da-5a6f54b21104",
   "metadata": {},
   "outputs": [],
   "source": []
  }
 ],
 "metadata": {
  "kernelspec": {
   "display_name": "Python 3 (ipykernel)",
   "language": "python",
   "name": "python3"
  },
  "language_info": {
   "codemirror_mode": {
    "name": "ipython",
    "version": 3
   },
   "file_extension": ".py",
   "mimetype": "text/x-python",
   "name": "python",
   "nbconvert_exporter": "python",
   "pygments_lexer": "ipython3",
   "version": "3.9.13"
  }
 },
 "nbformat": 4,
 "nbformat_minor": 5
}
